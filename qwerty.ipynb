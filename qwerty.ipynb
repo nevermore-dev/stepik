{
 "cells": [
  {
   "cell_type": "code",
   "execution_count": 44,
   "metadata": {},
   "outputs": [
    {
     "name": "stdout",
     "output_type": "stream",
     "text": [
      "{('Parker', 'Wilson', 50): ['Hatiko'], ('Josh', 'King', 25): ['Rusty', 'Balto', 'Barry', 'Lassie'], ('John', 'Smith', 28): ['Fido'], ('Jake', 'Smirnoff', 18): ['Butch'], ('Emma', 'Wright', 18): ['Odi'], ('Hannah', 'Taylor', 40): ['Snape'], ('Martha', 'Robinson', 73): ['Horry', 'Chase'], ('Alex', 'Martinez', 65): ['Giro'], ('Simon', 'Nevel', 32): ['Zooma', 'Rocky'], ('Martha', 'Williams', 38): ['Ace']}\n"
     ]
    }
   ],
   "source": [
    "pets = [('Hatiko', 'Parker', 'Wilson', 50),\n",
    "        ('Rusty', 'Josh', 'King', 25),\n",
    "        ('Fido', 'John', 'Smith', 28),\n",
    "        ('Butch', 'Jake', 'Smirnoff', 18),\n",
    "        ('Odi', 'Emma', 'Wright', 18),\n",
    "        ('Balto', 'Josh', 'King', 25),\n",
    "        ('Barry', 'Josh', 'King', 25),\n",
    "        ('Snape', 'Hannah', 'Taylor', 40),\n",
    "        ('Horry', 'Martha', 'Robinson', 73),\n",
    "        ('Giro', 'Alex', 'Martinez', 65),\n",
    "        ('Zooma', 'Simon', 'Nevel', 32),\n",
    "        ('Lassie', 'Josh', 'King', 25),\n",
    "        ('Chase', 'Martha', 'Robinson', 73),\n",
    "        ('Ace', 'Martha', 'Williams', 38),\n",
    "        ('Rocky', 'Simon', 'Nevel', 32)]\n",
    "\n",
    "# pet_dict = {}\n",
    "# for pet in pets:\n",
    "#     if pet[1] in pet_dict:\n",
    "#         pet_dict[pet[1]].append(pet[0])\n",
    "#     else:\n",
    "#         pet_dict[pet[1]] = [pet[0]]\n",
    "pet_dict = {}\n",
    "for pet in pets:\n",
    "    pet_dict.setdefault(pet[1:], []).append(pet[0])\n",
    "print(pet_dict)\n",
    "    "
   ]
  },
  {
   "cell_type": "code",
   "execution_count": 45,
   "metadata": {},
   "outputs": [
    {
     "name": "stdout",
     "output_type": "stream",
     "text": [
      "{'orange': 8, 'strawberry': 4, 'barley': 12, 'gooseberry': 3, 'apple': 2, 'apricot': 7, 'currant': 6, 'melon': 5, 'pomegranate': 5, 'banana': 12, 'plum': 4, 'grapefruit': 6, 'quince': 5, 'grapes': 1, 'raspberry': 1, 'lime': 3}\n"
     ]
    }
   ],
   "source": [
    "s = 'orange strawberry barley gooseberry apple apricot barley currant orange melon pomegranate banana banana orange barley apricot plum grapefruit banana quince strawberry barley grapefruit banana grapes melon strawberry apricot currant currant gooseberry raspberry apricot currant orange lime quince grapefruit barley banana melon pomegranate barley banana orange barley apricot plum banana quince lime grapefruit strawberry gooseberry apple barley apricot currant orange melon pomegranate banana banana orange apricot barley plum banana grapefruit banana quince currant orange melon pomegranate barley plum banana quince barley lime grapefruit pomegranate barley'\n",
    "x = {}\n",
    "for el in s.split():\n",
    "    x[el] = s.count(el)\n",
    "print(x)"
   ]
  },
  {
   "cell_type": "code",
   "execution_count": null,
   "metadata": {},
   "outputs": [],
   "source": [
    "pets = [('Hatiko', 'Parker', 'Wilson', 50),\n",
    "        ('Rusty', 'Josh', 'King', 25),\n",
    "        ('Fido', 'John', 'Smith', 28),\n",
    "        ('Butch', 'Jake', 'Smirnoff', 18),\n",
    "        ('Odi', 'Emma', 'Wright', 18),\n",
    "        ('Balto', 'Josh', 'King', 25),\n",
    "        ('Barry', 'Josh', 'King', 25),\n",
    "        ('Snape', 'Hannah', 'Taylor', 40),\n",
    "        ('Horry', 'Martha', 'Robinson', 73),\n",
    "        ('Giro', 'Alex', 'Martinez', 65),\n",
    "        ('Zooma', 'Simon', 'Nevel', 32),\n",
    "        ('Lassie', 'Josh', 'King', 25),\n",
    "        ('Chase', 'Martha', 'Robinson', 73),\n",
    "        ('Ace', 'Martha', 'Williams', 38),\n",
    "        ('Rocky', 'Simon', 'Nevel', 32)]\n",
    "\n",
    "xxx = {}\n",
    "for el in pets:\n",
    "    print(type(el))\n",
    "    xxx.setdefault(el[4:], [])\n",
    "print(xxx)"
   ]
  },
  {
   "cell_type": "code",
   "execution_count": 28,
   "metadata": {},
   "outputs": [
    {
     "name": "stdout",
     "output_type": "stream",
     "text": [
      "banana\n"
     ]
    }
   ],
   "source": [
    "s = 'orange strawberry barley gooseberry apple apricot barley currant orange melon pomegranate banana banana orange barley apricot plum grapefruit banana quince strawberry barley grapefruit banana grapes melon strawberry apricot currant currant gooseberry raspberry apricot currant orange lime quince grapefruit barley banana melon pomegranate barley banana orange barley apricot plum banana quince lime grapefruit strawberry gooseberry apple barley apricot currant orange melon pomegranate banana banana orange apricot barley plum banana grapefruit banana quince currant orange melon pomegranate barley plum banana quince barley lime grapefruit pomegranate barley'\n",
    "x = {}\n",
    "for el in set((s).split()):\n",
    "    x[(s.count(el))] = el\n",
    "\n",
    "print(x[(max(x.keys()))])\n",
    "\n",
    "\n",
    "\n"
   ]
  },
  {
   "cell_type": "code",
   "execution_count": 19,
   "metadata": {},
   "outputs": [
    {
     "name": "stdout",
     "output_type": "stream",
     "text": [
      "a\n",
      "London is the capital of Great Britain More than six million people live in London London lies on both banks of the river Thames It is the largest city in Europe and one of the largest cities in the world London is not only the capital of the country it is also a very big port one of the greatest commercial centres in the world a university city and the seat of the government of Great Britain\n"
     ]
    }
   ],
   "source": [
    "x = 'London is the capital of Great Britain. More than six million people live in London. London lies on both banks of the river Thames. It is the largest city in Europe and one of the largest cities in the world. London is not only the capital of the country, it is also a very big port, one of the greatest commercial centres in the world, a university city, and the seat of the government of Great Britain!'\n",
    "smth = '.,!?:;-'\n",
    "for el in x:\n",
    "    if el in smth:\n",
    "        x = x.replace(el, '')\n",
    "\n",
    "len_word_dict = {}\n",
    "for word in set((x.lower()).split()):\n",
    "    len_word_dict[len(word)] = [word]\n",
    "print(*len_word_dict[min(len_word_dict.keys())])\n",
    "\n",
    "\n",
    "print(x)\n",
    "\n"
   ]
  },
  {
   "cell_type": "code",
   "execution_count": 22,
   "metadata": {},
   "outputs": [
    {
     "name": "stdout",
     "output_type": "stream",
     "text": [
      "['g', 'h', 'b', 'd', 't', 'n']\n"
     ]
    }
   ],
   "source": [
    "# 10.4.3  https://stepik.org/lesson/488831/step/3?unit=480067\n",
    "smth = '.,!?:;-'\n",
    "for i in range(1):\n",
    "    \n",
    "    x = list(input())\n",
    "\n",
    "print(x)"
   ]
  },
  {
   "cell_type": "code",
   "execution_count": 25,
   "metadata": {},
   "outputs": [
    {
     "name": "stdout",
     "output_type": "stream",
     "text": [
      "Нидерланды\n",
      "Нидерланды\n",
      "Нидерланды\n",
      "{'Германия': ['Берлин', 'Мюнхен', 'Гамбург', 'Дортмунд'], 'Нидерланды': ['Амстердам', 'Гаага', 'Роттердам', 'Алкмар']}\n"
     ]
    }
   ],
   "source": [
    "# 10.4.5  https://stepik.org/lesson/488831/step/5?unit=480067\n",
    "\n",
    "n = int(input())\n",
    "\n",
    "new_dict = {}\n",
    "for _ in range(n):\n",
    "    string = input().split()\n",
    "    new_dict.setdefault(string[0], string[1:])\n",
    "\n",
    "m = int(input())\n",
    "for _ in range(m):\n",
    "    x = input()\n",
    "    for i, j in new_dict.items():\n",
    "        if x in j:\n",
    "            print(i)\n",
    "\n",
    "\n",
    "print(new_dict)\n"
   ]
  },
  {
   "cell_type": "code",
   "execution_count": 1,
   "metadata": {},
   "outputs": [
    {
     "name": "stdout",
     "output_type": "stream",
     "text": [
      "123123123123 123123123123\n"
     ]
    }
   ],
   "source": [
    "# 10.4.5  https://stepik.org/lesson/488831/step/6?unit=480067\n",
    "\n",
    "n = int(input())\n",
    "\n",
    "new_dict = {}\n",
    "for _ in range(n):\n",
    "    string = input().split()\n",
    "    new_dict.setdefault(string[1], []).append(string[0])\n",
    "\n",
    "m = int(input())\n",
    "\n",
    "for _ in range(m):\n",
    "    name = input().title()\n",
    "    if name in new_dict.keys():\n",
    "        print(*(new_dict[name]))\n",
    "    else:\n",
    "        print('абонент не найден')\n"
   ]
  },
  {
   "cell_type": "code",
   "execution_count": null,
   "metadata": {},
   "outputs": [],
   "source": [
    "test"
   ]
  }
 ],
 "metadata": {
  "kernelspec": {
   "display_name": "Python 3",
   "language": "python",
   "name": "python3"
  },
  "language_info": {
   "codemirror_mode": {
    "name": "ipython",
    "version": 3
   },
   "file_extension": ".py",
   "mimetype": "text/x-python",
   "name": "python",
   "nbconvert_exporter": "python",
   "pygments_lexer": "ipython3",
   "version": "3.10.2"
  },
  "orig_nbformat": 4
 },
 "nbformat": 4,
 "nbformat_minor": 2
}
